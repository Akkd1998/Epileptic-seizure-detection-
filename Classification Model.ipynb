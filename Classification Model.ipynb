{
 "cells": [
  {
   "cell_type": "markdown",
   "metadata": {},
   "source": [
    "# Epileptic seizure detection from EEG signals using Deep Learning\n",
    "  \n",
    "  "
   ]
  },
  {
   "cell_type": "code",
   "execution_count": 1,
   "metadata": {},
   "outputs": [
    {
     "name": "stderr",
     "output_type": "stream",
     "text": [
      "Using TensorFlow backend.\n"
     ]
    }
   ],
   "source": [
    "import tensorflow as tf\n",
    "import numpy as np\n",
    "from keras.models import Sequential\n",
    "from keras.utils import np_utils\n",
    "from keras.layers import Dense, Activation\n",
    "import pandas as pd\n",
    "\n",
    "import matplotlib.pyplot as plt"
   ]
  },
  {
   "cell_type": "markdown",
   "metadata": {},
   "source": [
    "# Data Preprocessing"
   ]
  },
  {
   "cell_type": "code",
   "execution_count": 2,
   "metadata": {},
   "outputs": [
    {
     "data": {
      "text/html": [
       "<div>\n",
       "<style scoped>\n",
       "    .dataframe tbody tr th:only-of-type {\n",
       "        vertical-align: middle;\n",
       "    }\n",
       "\n",
       "    .dataframe tbody tr th {\n",
       "        vertical-align: top;\n",
       "    }\n",
       "\n",
       "    .dataframe thead th {\n",
       "        text-align: right;\n",
       "    }\n",
       "</style>\n",
       "<table border=\"1\" class=\"dataframe\">\n",
       "  <thead>\n",
       "    <tr style=\"text-align: right;\">\n",
       "      <th></th>\n",
       "      <th>Unnamed: 0</th>\n",
       "      <th>X1</th>\n",
       "      <th>X2</th>\n",
       "      <th>X3</th>\n",
       "      <th>X4</th>\n",
       "      <th>X5</th>\n",
       "      <th>X6</th>\n",
       "      <th>X7</th>\n",
       "      <th>X8</th>\n",
       "      <th>X9</th>\n",
       "      <th>...</th>\n",
       "      <th>X170</th>\n",
       "      <th>X171</th>\n",
       "      <th>X172</th>\n",
       "      <th>X173</th>\n",
       "      <th>X174</th>\n",
       "      <th>X175</th>\n",
       "      <th>X176</th>\n",
       "      <th>X177</th>\n",
       "      <th>X178</th>\n",
       "      <th>y</th>\n",
       "    </tr>\n",
       "  </thead>\n",
       "  <tbody>\n",
       "    <tr>\n",
       "      <th>0</th>\n",
       "      <td>X21.V1.791</td>\n",
       "      <td>135</td>\n",
       "      <td>190</td>\n",
       "      <td>229</td>\n",
       "      <td>223</td>\n",
       "      <td>192</td>\n",
       "      <td>125</td>\n",
       "      <td>55</td>\n",
       "      <td>-9</td>\n",
       "      <td>-33</td>\n",
       "      <td>...</td>\n",
       "      <td>-17</td>\n",
       "      <td>-15</td>\n",
       "      <td>-31</td>\n",
       "      <td>-77</td>\n",
       "      <td>-103</td>\n",
       "      <td>-127</td>\n",
       "      <td>-116</td>\n",
       "      <td>-83</td>\n",
       "      <td>-51</td>\n",
       "      <td>4</td>\n",
       "    </tr>\n",
       "    <tr>\n",
       "      <th>1</th>\n",
       "      <td>X15.V1.924</td>\n",
       "      <td>386</td>\n",
       "      <td>382</td>\n",
       "      <td>356</td>\n",
       "      <td>331</td>\n",
       "      <td>320</td>\n",
       "      <td>315</td>\n",
       "      <td>307</td>\n",
       "      <td>272</td>\n",
       "      <td>244</td>\n",
       "      <td>...</td>\n",
       "      <td>164</td>\n",
       "      <td>150</td>\n",
       "      <td>146</td>\n",
       "      <td>152</td>\n",
       "      <td>157</td>\n",
       "      <td>156</td>\n",
       "      <td>154</td>\n",
       "      <td>143</td>\n",
       "      <td>129</td>\n",
       "      <td>1</td>\n",
       "    </tr>\n",
       "    <tr>\n",
       "      <th>2</th>\n",
       "      <td>X8.V1.1</td>\n",
       "      <td>-32</td>\n",
       "      <td>-39</td>\n",
       "      <td>-47</td>\n",
       "      <td>-37</td>\n",
       "      <td>-32</td>\n",
       "      <td>-36</td>\n",
       "      <td>-57</td>\n",
       "      <td>-73</td>\n",
       "      <td>-85</td>\n",
       "      <td>...</td>\n",
       "      <td>57</td>\n",
       "      <td>64</td>\n",
       "      <td>48</td>\n",
       "      <td>19</td>\n",
       "      <td>-12</td>\n",
       "      <td>-30</td>\n",
       "      <td>-35</td>\n",
       "      <td>-35</td>\n",
       "      <td>-36</td>\n",
       "      <td>5</td>\n",
       "    </tr>\n",
       "    <tr>\n",
       "      <th>3</th>\n",
       "      <td>X16.V1.60</td>\n",
       "      <td>-105</td>\n",
       "      <td>-101</td>\n",
       "      <td>-96</td>\n",
       "      <td>-92</td>\n",
       "      <td>-89</td>\n",
       "      <td>-95</td>\n",
       "      <td>-102</td>\n",
       "      <td>-100</td>\n",
       "      <td>-87</td>\n",
       "      <td>...</td>\n",
       "      <td>-82</td>\n",
       "      <td>-81</td>\n",
       "      <td>-80</td>\n",
       "      <td>-77</td>\n",
       "      <td>-85</td>\n",
       "      <td>-77</td>\n",
       "      <td>-72</td>\n",
       "      <td>-69</td>\n",
       "      <td>-65</td>\n",
       "      <td>5</td>\n",
       "    </tr>\n",
       "    <tr>\n",
       "      <th>4</th>\n",
       "      <td>X20.V1.54</td>\n",
       "      <td>-9</td>\n",
       "      <td>-65</td>\n",
       "      <td>-98</td>\n",
       "      <td>-102</td>\n",
       "      <td>-78</td>\n",
       "      <td>-48</td>\n",
       "      <td>-16</td>\n",
       "      <td>0</td>\n",
       "      <td>-21</td>\n",
       "      <td>...</td>\n",
       "      <td>4</td>\n",
       "      <td>2</td>\n",
       "      <td>-12</td>\n",
       "      <td>-32</td>\n",
       "      <td>-41</td>\n",
       "      <td>-65</td>\n",
       "      <td>-83</td>\n",
       "      <td>-89</td>\n",
       "      <td>-73</td>\n",
       "      <td>5</td>\n",
       "    </tr>\n",
       "  </tbody>\n",
       "</table>\n",
       "<p>5 rows × 180 columns</p>\n",
       "</div>"
      ],
      "text/plain": [
       "   Unnamed: 0   X1   X2   X3   X4   X5   X6   X7   X8   X9 ...  X170  X171  \\\n",
       "0  X21.V1.791  135  190  229  223  192  125   55   -9  -33 ...   -17   -15   \n",
       "1  X15.V1.924  386  382  356  331  320  315  307  272  244 ...   164   150   \n",
       "2     X8.V1.1  -32  -39  -47  -37  -32  -36  -57  -73  -85 ...    57    64   \n",
       "3   X16.V1.60 -105 -101  -96  -92  -89  -95 -102 -100  -87 ...   -82   -81   \n",
       "4   X20.V1.54   -9  -65  -98 -102  -78  -48  -16    0  -21 ...     4     2   \n",
       "\n",
       "   X172  X173  X174  X175  X176  X177  X178  y  \n",
       "0   -31   -77  -103  -127  -116   -83   -51  4  \n",
       "1   146   152   157   156   154   143   129  1  \n",
       "2    48    19   -12   -30   -35   -35   -36  5  \n",
       "3   -80   -77   -85   -77   -72   -69   -65  5  \n",
       "4   -12   -32   -41   -65   -83   -89   -73  5  \n",
       "\n",
       "[5 rows x 180 columns]"
      ]
     },
     "execution_count": 2,
     "metadata": {},
     "output_type": "execute_result"
    }
   ],
   "source": [
    "df=pd.read_csv('data.csv')\n",
    "df.head()"
   ]
  },
  {
   "cell_type": "code",
   "execution_count": 3,
   "metadata": {},
   "outputs": [],
   "source": [
    "X=df.values"
   ]
  },
  {
   "cell_type": "code",
   "execution_count": 4,
   "metadata": {},
   "outputs": [],
   "source": [
    "X=X[:,1:-1]\n"
   ]
  },
  {
   "cell_type": "code",
   "execution_count": 47,
   "metadata": {},
   "outputs": [],
   "source": [
    "from sklearn.model_selection import train_test_split\n",
    "\n",
    "\n",
    "y=np.array(df['y'])\n",
    "Y=np_utils.to_categorical(y)\n",
    "Y.shape\n",
    "X_train, X_test, Y_train, Y_test = train_test_split(X, Y, test_size=0.20, random_state=1)"
   ]
  },
  {
   "cell_type": "code",
   "execution_count": 48,
   "metadata": {},
   "outputs": [
    {
     "name": "stdout",
     "output_type": "stream",
     "text": [
      "(11500, 178) (11500,)\n"
     ]
    }
   ],
   "source": [
    "print(X.shape,y.shape)"
   ]
  },
  {
   "cell_type": "markdown",
   "metadata": {},
   "source": [
    "# Intuition of the Epileptical Signal In the Dataset "
   ]
  },
  {
   "cell_type": "code",
   "execution_count": 49,
   "metadata": {},
   "outputs": [
    {
     "data": {
      "image/png": "[encoded data removed]",
      "text/plain": [
       "<Figure size 576x432 with 1 Axes>"
      ]
     },
     "metadata": {
      "needs_background": "light"
     },
     "output_type": "display_data"
    }
   ],
   "source": [
    "plt.figure(figsize=(8,6))\n",
    "plt.plot(X[1,:],label='1')\n",
    "plt.plot(X[7,:],label='2')\n",
    "plt.plot(X[12,:],label='3')\n",
    "plt.plot(X[0,:],label='4')\n",
    "plt.plot(X[2,:],label='5')\n",
    "plt.legend()\n",
    "plt.show()"
   ]
  },
  {
   "cell_type": "markdown",
   "metadata": {},
   "source": [
    "# Creating Artifitial Neural Net Model For the Classification "
   ]
  },
  {
   "cell_type": "code",
   "execution_count": 50,
   "metadata": {},
   "outputs": [
    {
     "name": "stdout",
     "output_type": "stream",
     "text": [
      "_________________________________________________________________\n",
      "Layer (type)                 Output Shape              Param #   \n",
      "=================================================================\n",
      "dense_23 (Dense)             (None, 256)               11776     \n",
      "_________________________________________________________________\n",
      "activation_23 (Activation)   (None, 256)               0         \n",
      "_________________________________________________________________\n",
      "dense_24 (Dense)             (None, 128)               32896     \n",
      "_________________________________________________________________\n",
      "activation_24 (Activation)   (None, 128)               0         \n",
      "_________________________________________________________________\n",
      "dense_25 (Dense)             (None, 128)               16512     \n",
      "_________________________________________________________________\n",
      "activation_25 (Activation)   (None, 128)               0         \n",
      "_________________________________________________________________\n",
      "dense_26 (Dense)             (None, 64)                8256      \n",
      "_________________________________________________________________\n",
      "activation_26 (Activation)   (None, 64)                0         \n",
      "_________________________________________________________________\n",
      "dense_27 (Dense)             (None, 32)                2080      \n",
      "_________________________________________________________________\n",
      "activation_27 (Activation)   (None, 32)                0         \n",
      "_________________________________________________________________\n",
      "dense_28 (Dense)             (None, 32)                1056      \n",
      "_________________________________________________________________\n",
      "activation_28 (Activation)   (None, 32)                0         \n",
      "_________________________________________________________________\n",
      "dense_29 (Dense)             (None, 32)                1056      \n",
      "_________________________________________________________________\n",
      "activation_29 (Activation)   (None, 32)                0         \n",
      "_________________________________________________________________\n",
      "dense_30 (Dense)             (None, 16)                528       \n",
      "_________________________________________________________________\n",
      "activation_30 (Activation)   (None, 16)                0         \n",
      "_________________________________________________________________\n",
      "dense_31 (Dense)             (None, 16)                272       \n",
      "_________________________________________________________________\n",
      "activation_31 (Activation)   (None, 16)                0         \n",
      "_________________________________________________________________\n",
      "dense_32 (Dense)             (None, 8)                 136       \n",
      "_________________________________________________________________\n",
      "activation_32 (Activation)   (None, 8)                 0         \n",
      "_________________________________________________________________\n",
      "dense_33 (Dense)             (None, 5)                 45        \n",
      "_________________________________________________________________\n",
      "activation_33 (Activation)   (None, 5)                 0         \n",
      "=================================================================\n",
      "Total params: 74,613\n",
      "Trainable params: 74,613\n",
      "Non-trainable params: 0\n",
      "_________________________________________________________________\n"
     ]
    }
   ],
   "source": [
    "model=Sequential()\n",
    "\n",
    "\n",
    "model.add(Dense(256,input_shape=(45,)))\n",
    "model.add(Activation('relu'))\n",
    "model.add(Dense(128))\n",
    "model.add(Activation('relu'))\n",
    "model.add(Dense(128))\n",
    "model.add(Activation('relu'))\n",
    "model.add(Dense(64))\n",
    "model.add(Activation('relu'))\n",
    "model.add(Dense(32))\n",
    "model.add(Activation('relu'))\n",
    "model.add(Dense(32))\n",
    "model.add(Activation('relu'))\n",
    "model.add(Dense(32))\n",
    "model.add(Activation('relu'))\n",
    "model.add(Dense(16))\n",
    "model.add(Activation('relu'))\n",
    "model.add(Dense(16))\n",
    "model.add(Activation('relu'))\n",
    "model.add(Dense(8))\n",
    "model.add(Activation('relu'))\n",
    "model.add(Dense(5))\n",
    "model.add(Activation('softmax'))\n",
    "model.summary()"
   ]
  },
  {
   "cell_type": "code",
   "execution_count": 51,
   "metadata": {},
   "outputs": [],
   "source": [
    "model.compile(optimizer='adam',loss='binary_crossentropy',metrics=['accuracy'])\n"
   ]
  },
  {
   "cell_type": "code",
   "execution_count": 70,
   "metadata": {
    "scrolled": true
   },
   "outputs": [
    {
     "name": "stdout",
     "output_type": "stream",
     "text": [
      "Train on 9200 samples, validate on 2300 samples\n",
      "Epoch 1/200\n",
      " - 2s - loss: 0.0056 - acc: 0.9988 - val_loss: 0.2971 - val_acc: 0.9475\n",
      "Epoch 2/200\n",
      " - 2s - loss: 0.0095 - acc: 0.9980 - val_loss: 0.2857 - val_acc: 0.9511\n",
      "Epoch 3/200\n",
      " - 2s - loss: 0.0087 - acc: 0.9978 - val_loss: 0.2719 - val_acc: 0.9477\n",
      "Epoch 4/200\n",
      " - 2s - loss: 0.0127 - acc: 0.9969 - val_loss: 0.3369 - val_acc: 0.9490\n",
      "Epoch 5/200\n",
      " - 2s - loss: 0.0115 - acc: 0.9978 - val_loss: 0.2897 - val_acc: 0.9498\n",
      "Epoch 6/200\n",
      " - 2s - loss: 0.0066 - acc: 0.9988 - val_loss: 0.2858 - val_acc: 0.9528\n",
      "Epoch 7/200\n",
      " - 2s - loss: 0.0040 - acc: 0.9993 - val_loss: 0.3001 - val_acc: 0.9488\n",
      "Epoch 8/200\n",
      " - 2s - loss: 0.0105 - acc: 0.9975 - val_loss: 0.3562 - val_acc: 0.9455\n",
      "Epoch 9/200\n",
      " - 2s - loss: 0.0189 - acc: 0.9953 - val_loss: 0.3001 - val_acc: 0.9474\n",
      "Epoch 10/200\n",
      " - 2s - loss: 0.0110 - acc: 0.9968 - val_loss: 0.3046 - val_acc: 0.9491\n",
      "Epoch 11/200\n",
      " - 2s - loss: 0.0101 - acc: 0.9971 - val_loss: 0.2953 - val_acc: 0.9474\n",
      "Epoch 12/200\n",
      " - 2s - loss: 0.0098 - acc: 0.9977 - val_loss: 0.2663 - val_acc: 0.9463\n",
      "Epoch 13/200\n",
      " - 2s - loss: 0.0064 - acc: 0.9987 - val_loss: 0.2870 - val_acc: 0.9499\n",
      "Epoch 14/200\n",
      " - 2s - loss: 0.0059 - acc: 0.9985 - val_loss: 0.2997 - val_acc: 0.9492\n",
      "Epoch 15/200\n",
      " - 2s - loss: 0.0080 - acc: 0.9980 - val_loss: 0.2625 - val_acc: 0.9467\n",
      "Epoch 16/200\n",
      " - 2s - loss: 0.0123 - acc: 0.9968 - val_loss: 0.2704 - val_acc: 0.9457\n",
      "Epoch 17/200\n",
      " - 2s - loss: 0.0110 - acc: 0.9970 - val_loss: 0.2467 - val_acc: 0.9484\n",
      "Epoch 18/200\n",
      " - 2s - loss: 0.0072 - acc: 0.9983 - val_loss: 0.2516 - val_acc: 0.9474\n",
      "Epoch 19/200\n",
      " - 2s - loss: 0.0100 - acc: 0.9974 - val_loss: 0.2634 - val_acc: 0.9490\n",
      "Epoch 20/200\n",
      " - 2s - loss: 0.0085 - acc: 0.9983 - val_loss: 0.2644 - val_acc: 0.9505\n",
      "Epoch 21/200\n",
      " - 2s - loss: 0.0113 - acc: 0.9972 - val_loss: 0.2454 - val_acc: 0.9503\n",
      "Epoch 22/200\n",
      " - 2s - loss: 0.0087 - acc: 0.9978 - val_loss: 0.2688 - val_acc: 0.9520\n",
      "Epoch 23/200\n",
      " - 2s - loss: 0.0105 - acc: 0.9972 - val_loss: 0.2694 - val_acc: 0.9484\n",
      "Epoch 24/200\n",
      " - 2s - loss: 0.0094 - acc: 0.9983 - val_loss: 0.2835 - val_acc: 0.9492\n",
      "Epoch 25/200\n",
      " - 2s - loss: 0.0090 - acc: 0.9980 - val_loss: 0.2669 - val_acc: 0.9478\n",
      "Epoch 26/200\n",
      " - 2s - loss: 0.0088 - acc: 0.9977 - val_loss: 0.2566 - val_acc: 0.9467\n",
      "Epoch 27/200\n",
      " - 2s - loss: 0.0124 - acc: 0.9963 - val_loss: 0.2699 - val_acc: 0.9483\n",
      "Epoch 28/200\n",
      " - 2s - loss: 0.0085 - acc: 0.9985 - val_loss: 0.2710 - val_acc: 0.9485\n",
      "Epoch 29/200\n",
      " - 2s - loss: 0.0095 - acc: 0.9980 - val_loss: 0.3273 - val_acc: 0.9491\n",
      "Epoch 30/200\n",
      " - 2s - loss: 0.0090 - acc: 0.9979 - val_loss: 0.3192 - val_acc: 0.9480\n",
      "Epoch 31/200\n",
      " - 2s - loss: 0.0054 - acc: 0.9987 - val_loss: 0.3143 - val_acc: 0.9487\n",
      "Epoch 32/200\n",
      " - 2s - loss: 0.0049 - acc: 0.9987 - val_loss: 0.3745 - val_acc: 0.9406\n",
      "Epoch 33/200\n",
      " - 2s - loss: 0.0242 - acc: 0.9940 - val_loss: 0.2996 - val_acc: 0.9462\n",
      "Epoch 34/200\n",
      " - 2s - loss: 0.0093 - acc: 0.9980 - val_loss: 0.2559 - val_acc: 0.9502\n",
      "Epoch 35/200\n",
      " - 2s - loss: 0.0051 - acc: 0.9986 - val_loss: 0.2718 - val_acc: 0.9486\n",
      "Epoch 36/200\n",
      " - 2s - loss: 0.0031 - acc: 0.9992 - val_loss: 0.3244 - val_acc: 0.9471\n",
      "Epoch 37/200\n",
      " - 2s - loss: 0.0060 - acc: 0.9984 - val_loss: 0.4217 - val_acc: 0.9437\n",
      "Epoch 38/200\n",
      " - 2s - loss: 0.0172 - acc: 0.9956 - val_loss: 0.2669 - val_acc: 0.9399\n",
      "Epoch 39/200\n",
      " - 2s - loss: 0.0128 - acc: 0.9961 - val_loss: 0.2658 - val_acc: 0.9425\n",
      "Epoch 40/200\n",
      " - 2s - loss: 0.0113 - acc: 0.9971 - val_loss: 0.2703 - val_acc: 0.9454\n",
      "Epoch 41/200\n",
      " - 2s - loss: 0.0044 - acc: 0.9985 - val_loss: 0.3035 - val_acc: 0.9465\n",
      "Epoch 42/200\n",
      " - 2s - loss: 0.0035 - acc: 0.9993 - val_loss: 0.3145 - val_acc: 0.9467\n",
      "Epoch 43/200\n",
      " - 2s - loss: 0.0094 - acc: 0.9977 - val_loss: 0.2502 - val_acc: 0.9449\n",
      "Epoch 44/200\n",
      " - 2s - loss: 0.0144 - acc: 0.9963 - val_loss: 0.2972 - val_acc: 0.9423\n",
      "Epoch 45/200\n",
      " - 2s - loss: 0.0112 - acc: 0.9979 - val_loss: 0.3253 - val_acc: 0.9438\n",
      "Epoch 46/200\n",
      " - 2s - loss: 0.0090 - acc: 0.9982 - val_loss: 0.3484 - val_acc: 0.9420\n",
      "Epoch 47/200\n",
      " - 2s - loss: 0.0115 - acc: 0.9976 - val_loss: 0.2985 - val_acc: 0.9425\n",
      "Epoch 48/200\n",
      " - 2s - loss: 0.0130 - acc: 0.9970 - val_loss: 0.2614 - val_acc: 0.9473\n",
      "Epoch 49/200\n",
      " - 2s - loss: 0.0089 - acc: 0.9977 - val_loss: 0.2944 - val_acc: 0.9455\n",
      "Epoch 50/200\n",
      " - 2s - loss: 0.0058 - acc: 0.9989 - val_loss: 0.3161 - val_acc: 0.9468\n",
      "Epoch 51/200\n",
      " - 2s - loss: 0.0115 - acc: 0.9973 - val_loss: 0.2687 - val_acc: 0.9476\n",
      "Epoch 52/200\n",
      " - 2s - loss: 0.0131 - acc: 0.9973 - val_loss: 0.2912 - val_acc: 0.9441\n",
      "Epoch 53/200\n",
      " - 2s - loss: 0.0077 - acc: 0.9982 - val_loss: 0.3153 - val_acc: 0.9477\n",
      "Epoch 54/200\n",
      " - 2s - loss: 0.0037 - acc: 0.9993 - val_loss: 0.3439 - val_acc: 0.9474\n",
      "Epoch 55/200\n",
      " - 2s - loss: 0.0121 - acc: 0.9973 - val_loss: 0.2696 - val_acc: 0.9432\n",
      "Epoch 56/200\n",
      " - 2s - loss: 0.0095 - acc: 0.9970 - val_loss: 0.2704 - val_acc: 0.9463\n",
      "Epoch 57/200\n",
      " - 2s - loss: 0.0061 - acc: 0.9986 - val_loss: 0.3342 - val_acc: 0.9455\n",
      "Epoch 58/200\n",
      " - 2s - loss: 0.0088 - acc: 0.9982 - val_loss: 0.2943 - val_acc: 0.9478\n",
      "Epoch 59/200\n",
      " - 2s - loss: 0.0038 - acc: 0.9993 - val_loss: 0.3439 - val_acc: 0.9465\n",
      "Epoch 60/200\n",
      " - 2s - loss: 0.0031 - acc: 0.9994 - val_loss: 0.3977 - val_acc: 0.9474\n",
      "Epoch 61/200\n",
      " - 2s - loss: 0.0125 - acc: 0.9972 - val_loss: 0.3296 - val_acc: 0.9400\n",
      "Epoch 62/200\n",
      " - 2s - loss: 0.0169 - acc: 0.9960 - val_loss: 0.2767 - val_acc: 0.9427\n",
      "Epoch 63/200\n",
      " - 2s - loss: 0.0103 - acc: 0.9974 - val_loss: 0.2939 - val_acc: 0.9432\n",
      "Epoch 64/200\n",
      " - 2s - loss: 0.0052 - acc: 0.9989 - val_loss: 0.3286 - val_acc: 0.9448\n",
      "Epoch 65/200\n",
      " - 2s - loss: 0.0054 - acc: 0.9988 - val_loss: 0.3569 - val_acc: 0.9430\n",
      "Epoch 66/200\n",
      " - 2s - loss: 0.0061 - acc: 0.9988 - val_loss: 0.3701 - val_acc: 0.9395\n",
      "Epoch 67/200\n",
      " - 2s - loss: 0.0162 - acc: 0.9959 - val_loss: 0.3218 - val_acc: 0.9407\n",
      "Epoch 68/200\n",
      " - 2s - loss: 0.0117 - acc: 0.9971 - val_loss: 0.3633 - val_acc: 0.9388\n",
      "Epoch 69/200\n",
      " - 2s - loss: 0.0114 - acc: 0.9975 - val_loss: 0.2879 - val_acc: 0.9393\n",
      "Epoch 70/200\n",
      " - 2s - loss: 0.0100 - acc: 0.9976 - val_loss: 0.2806 - val_acc: 0.9410\n",
      "Epoch 71/200\n",
      " - 2s - loss: 0.0121 - acc: 0.9972 - val_loss: 0.3495 - val_acc: 0.9382\n",
      "Epoch 72/200\n",
      " - 2s - loss: 0.0093 - acc: 0.9978 - val_loss: 0.3203 - val_acc: 0.9415\n",
      "Epoch 73/200\n",
      " - 2s - loss: 0.0110 - acc: 0.9978 - val_loss: 0.3303 - val_acc: 0.9383\n",
      "Epoch 74/200\n",
      " - 2s - loss: 0.0077 - acc: 0.9982 - val_loss: 0.3506 - val_acc: 0.9362\n",
      "Epoch 75/200\n",
      " - 2s - loss: 0.0116 - acc: 0.9968 - val_loss: 0.3020 - val_acc: 0.9385\n",
      "Epoch 76/200\n",
      " - 2s - loss: 0.0062 - acc: 0.9986 - val_loss: 0.3539 - val_acc: 0.9382\n",
      "Epoch 77/200\n",
      " - 2s - loss: 0.0063 - acc: 0.9989 - val_loss: 0.3007 - val_acc: 0.9391\n",
      "Epoch 78/200\n",
      " - 2s - loss: 0.0060 - acc: 0.9987 - val_loss: 0.3810 - val_acc: 0.9413\n",
      "Epoch 79/200\n",
      " - 2s - loss: 0.0151 - acc: 0.9962 - val_loss: 0.3262 - val_acc: 0.9301\n",
      "Epoch 80/200\n",
      " - 2s - loss: 0.0155 - acc: 0.9961 - val_loss: 0.3320 - val_acc: 0.9402\n",
      "Epoch 81/200\n",
      " - 2s - loss: 0.0128 - acc: 0.9969 - val_loss: 0.3223 - val_acc: 0.9397\n",
      "Epoch 82/200\n",
      " - 2s - loss: 0.0071 - acc: 0.9980 - val_loss: 0.3060 - val_acc: 0.9443\n",
      "Epoch 83/200\n",
      " - 2s - loss: 0.0056 - acc: 0.9992 - val_loss: 0.3168 - val_acc: 0.9434\n",
      "Epoch 84/200\n",
      " - 2s - loss: 0.0042 - acc: 0.9990 - val_loss: 0.3209 - val_acc: 0.9360\n",
      "Epoch 85/200\n",
      " - 2s - loss: 0.0129 - acc: 0.9967 - val_loss: 0.3010 - val_acc: 0.9418\n",
      "Epoch 86/200\n",
      " - 2s - loss: 0.0100 - acc: 0.9968 - val_loss: 0.2925 - val_acc: 0.9425\n",
      "Epoch 87/200\n",
      " - 2s - loss: 0.0038 - acc: 0.9990 - val_loss: 0.3449 - val_acc: 0.9427\n",
      "Epoch 88/200\n",
      " - 2s - loss: 0.0057 - acc: 0.9985 - val_loss: 0.3013 - val_acc: 0.9433\n",
      "Epoch 89/200\n",
      " - 2s - loss: 0.0095 - acc: 0.9977 - val_loss: 0.2572 - val_acc: 0.9412\n",
      "Epoch 90/200\n",
      " - 2s - loss: 0.0087 - acc: 0.9981 - val_loss: 0.2606 - val_acc: 0.9393\n",
      "Epoch 91/200\n",
      " - 2s - loss: 0.0119 - acc: 0.9968 - val_loss: 0.2980 - val_acc: 0.9395\n",
      "Epoch 92/200\n",
      " - 2s - loss: 0.0091 - acc: 0.9980 - val_loss: 0.3778 - val_acc: 0.9246\n",
      "Epoch 93/200\n",
      " - 2s - loss: 0.0851 - acc: 0.9880 - val_loss: 0.3255 - val_acc: 0.9340\n",
      "Epoch 94/200\n",
      " - 2s - loss: 0.0262 - acc: 0.9949 - val_loss: 0.3184 - val_acc: 0.9320\n",
      "Epoch 95/200\n",
      " - 2s - loss: 0.0319 - acc: 0.9934 - val_loss: 0.3366 - val_acc: 0.9281\n",
      "Epoch 96/200\n",
      " - 2s - loss: 0.0317 - acc: 0.9939 - val_loss: 0.4061 - val_acc: 0.9282\n"
     ]
    },
    {
     "name": "stdout",
     "output_type": "stream",
     "text": [
      "Epoch 97/200\n",
      " - 2s - loss: 0.0338 - acc: 0.9940 - val_loss: 0.3512 - val_acc: 0.9376\n",
      "Epoch 98/200\n",
      " - 2s - loss: 0.0322 - acc: 0.9947 - val_loss: 0.3718 - val_acc: 0.9350\n",
      "Epoch 99/200\n",
      " - 2s - loss: 0.0371 - acc: 0.9944 - val_loss: 0.3196 - val_acc: 0.9323\n",
      "Epoch 100/200\n",
      " - 2s - loss: 0.0238 - acc: 0.9958 - val_loss: 0.3582 - val_acc: 0.9375\n",
      "Epoch 101/200\n",
      " - 2s - loss: 0.0290 - acc: 0.9954 - val_loss: 0.3554 - val_acc: 0.9337\n",
      "Epoch 102/200\n",
      " - 2s - loss: 0.0227 - acc: 0.9965 - val_loss: 0.3059 - val_acc: 0.9386\n",
      "Epoch 103/200\n",
      " - 2s - loss: 0.0225 - acc: 0.9964 - val_loss: 0.3371 - val_acc: 0.9341\n",
      "Epoch 104/200\n",
      " - 2s - loss: 0.0384 - acc: 0.9949 - val_loss: 0.3502 - val_acc: 0.9310\n",
      "Epoch 105/200\n",
      " - 2s - loss: 0.0242 - acc: 0.9960 - val_loss: 0.3580 - val_acc: 0.9310\n",
      "Epoch 106/200\n",
      " - 2s - loss: 0.0375 - acc: 0.9937 - val_loss: 0.3234 - val_acc: 0.9307\n",
      "Epoch 107/200\n",
      " - 2s - loss: 0.0299 - acc: 0.9930 - val_loss: 0.3398 - val_acc: 0.9313\n",
      "Epoch 108/200\n",
      " - 2s - loss: 0.0196 - acc: 0.9960 - val_loss: 0.2976 - val_acc: 0.9357\n",
      "Epoch 109/200\n",
      " - 2s - loss: 0.0152 - acc: 0.9976 - val_loss: 0.3928 - val_acc: 0.9380\n",
      "Epoch 110/200\n",
      " - 2s - loss: 0.0172 - acc: 0.9967 - val_loss: 0.3117 - val_acc: 0.9326\n",
      "Epoch 111/200\n",
      " - 2s - loss: 0.0285 - acc: 0.9946 - val_loss: 0.3420 - val_acc: 0.9346\n",
      "Epoch 112/200\n",
      " - 2s - loss: 0.0337 - acc: 0.9933 - val_loss: 0.3283 - val_acc: 0.9323\n",
      "Epoch 113/200\n",
      " - 2s - loss: 0.0483 - acc: 0.9927 - val_loss: 0.4023 - val_acc: 0.9312\n",
      "Epoch 114/200\n",
      " - 2s - loss: 0.0288 - acc: 0.9952 - val_loss: 0.3127 - val_acc: 0.9357\n",
      "Epoch 115/200\n",
      " - 2s - loss: 0.0264 - acc: 0.9944 - val_loss: 0.2910 - val_acc: 0.9366\n",
      "Epoch 116/200\n",
      " - 2s - loss: 0.0208 - acc: 0.9960 - val_loss: 0.3344 - val_acc: 0.9326\n",
      "Epoch 117/200\n",
      " - 2s - loss: 0.0139 - acc: 0.9964 - val_loss: 0.3040 - val_acc: 0.9379\n",
      "Epoch 118/200\n",
      " - 2s - loss: 0.0075 - acc: 0.9982 - val_loss: 0.3273 - val_acc: 0.9379\n",
      "Epoch 119/200\n",
      " - 2s - loss: 0.0054 - acc: 0.9987 - val_loss: 0.3461 - val_acc: 0.9391\n",
      "Epoch 120/200\n",
      " - 2s - loss: 0.0114 - acc: 0.9973 - val_loss: 0.2870 - val_acc: 0.9367\n",
      "Epoch 121/200\n",
      " - 2s - loss: 0.0131 - acc: 0.9965 - val_loss: 0.3158 - val_acc: 0.9348\n",
      "Epoch 122/200\n",
      " - 2s - loss: 0.0130 - acc: 0.9971 - val_loss: 0.2914 - val_acc: 0.9316\n",
      "Epoch 123/200\n",
      " - 2s - loss: 0.0160 - acc: 0.9957 - val_loss: 0.2831 - val_acc: 0.9350\n",
      "Epoch 124/200\n",
      " - 2s - loss: 0.0275 - acc: 0.9933 - val_loss: 0.2903 - val_acc: 0.9293\n",
      "Epoch 125/200\n",
      " - 2s - loss: 0.0169 - acc: 0.9962 - val_loss: 0.2689 - val_acc: 0.9373\n",
      "Epoch 126/200\n",
      " - 2s - loss: 0.0099 - acc: 0.9981 - val_loss: 0.2901 - val_acc: 0.9401\n",
      "Epoch 127/200\n",
      " - 2s - loss: 0.0069 - acc: 0.9988 - val_loss: 0.3659 - val_acc: 0.9386\n",
      "Epoch 128/200\n",
      " - 2s - loss: 0.0179 - acc: 0.9955 - val_loss: 0.3034 - val_acc: 0.9341\n",
      "Epoch 129/200\n",
      " - 2s - loss: 0.0281 - acc: 0.9936 - val_loss: 0.2837 - val_acc: 0.9337\n",
      "Epoch 130/200\n",
      " - 2s - loss: 0.0136 - acc: 0.9973 - val_loss: 0.3404 - val_acc: 0.9320\n",
      "Epoch 131/200\n",
      " - 2s - loss: 0.0152 - acc: 0.9970 - val_loss: 0.3440 - val_acc: 0.9370\n",
      "Epoch 132/200\n",
      " - 2s - loss: 0.0120 - acc: 0.9975 - val_loss: 0.3364 - val_acc: 0.9351\n",
      "Epoch 133/200\n",
      " - 2s - loss: 0.0153 - acc: 0.9963 - val_loss: 0.3420 - val_acc: 0.9334\n",
      "Epoch 134/200\n",
      " - 2s - loss: 0.0128 - acc: 0.9970 - val_loss: 0.3104 - val_acc: 0.9328\n",
      "Epoch 135/200\n",
      " - 2s - loss: 0.0121 - acc: 0.9969 - val_loss: 0.3045 - val_acc: 0.9343\n",
      "Epoch 136/200\n",
      " - 2s - loss: 0.0097 - acc: 0.9979 - val_loss: 0.3026 - val_acc: 0.9361\n",
      "Epoch 137/200\n",
      " - 2s - loss: 0.0128 - acc: 0.9974 - val_loss: 0.3403 - val_acc: 0.9314\n",
      "Epoch 138/200\n",
      " - 2s - loss: 0.0305 - acc: 0.9937 - val_loss: 0.3758 - val_acc: 0.9288\n",
      "Epoch 139/200\n",
      " - 2s - loss: 0.0203 - acc: 0.9956 - val_loss: 0.3405 - val_acc: 0.9312\n",
      "Epoch 140/200\n",
      " - 2s - loss: 0.0298 - acc: 0.9929 - val_loss: 0.3425 - val_acc: 0.9198\n",
      "Epoch 141/200\n",
      " - 2s - loss: 0.0286 - acc: 0.9924 - val_loss: 0.3102 - val_acc: 0.9291\n",
      "Epoch 142/200\n",
      " - 2s - loss: 0.0185 - acc: 0.9960 - val_loss: 0.3009 - val_acc: 0.9270\n",
      "Epoch 143/200\n",
      " - 2s - loss: 0.0207 - acc: 0.9953 - val_loss: 0.3020 - val_acc: 0.9325\n",
      "Epoch 144/200\n",
      " - 2s - loss: 0.0196 - acc: 0.9957 - val_loss: 0.3131 - val_acc: 0.9290\n",
      "Epoch 145/200\n",
      " - 2s - loss: 0.0157 - acc: 0.9963 - val_loss: 0.2896 - val_acc: 0.9363\n",
      "Epoch 146/200\n",
      " - 2s - loss: 0.0293 - acc: 0.9917 - val_loss: 0.3215 - val_acc: 0.9139\n",
      "Epoch 147/200\n",
      " - 2s - loss: 0.0297 - acc: 0.9920 - val_loss: 0.2756 - val_acc: 0.9279\n",
      "Epoch 148/200\n",
      " - 2s - loss: 0.0165 - acc: 0.9966 - val_loss: 0.2826 - val_acc: 0.9360\n",
      "Epoch 149/200\n",
      " - 2s - loss: 0.0162 - acc: 0.9963 - val_loss: 0.3682 - val_acc: 0.9303\n",
      "Epoch 150/200\n",
      " - 2s - loss: 0.0190 - acc: 0.9954 - val_loss: 0.3025 - val_acc: 0.9303\n",
      "Epoch 151/200\n",
      " - 2s - loss: 0.0178 - acc: 0.9958 - val_loss: 0.3008 - val_acc: 0.9291\n",
      "Epoch 152/200\n",
      " - 2s - loss: 0.0218 - acc: 0.9946 - val_loss: 0.3119 - val_acc: 0.9308\n",
      "Epoch 153/200\n",
      " - 2s - loss: 0.0175 - acc: 0.9963 - val_loss: 0.3345 - val_acc: 0.9299\n",
      "Epoch 154/200\n",
      " - 2s - loss: 0.0240 - acc: 0.9943 - val_loss: 0.2771 - val_acc: 0.9287\n",
      "Epoch 155/200\n",
      " - 2s - loss: 0.0248 - acc: 0.9940 - val_loss: 0.3374 - val_acc: 0.9277\n",
      "Epoch 156/200\n",
      " - 2s - loss: 0.0230 - acc: 0.9946 - val_loss: 0.3025 - val_acc: 0.9292\n",
      "Epoch 157/200\n",
      " - 2s - loss: 0.0223 - acc: 0.9947 - val_loss: 0.3288 - val_acc: 0.9295\n",
      "Epoch 158/200\n",
      " - 2s - loss: 0.0209 - acc: 0.9954 - val_loss: 0.2791 - val_acc: 0.9284\n",
      "Epoch 159/200\n",
      " - 2s - loss: 0.0206 - acc: 0.9954 - val_loss: 0.2911 - val_acc: 0.9285\n",
      "Epoch 160/200\n",
      " - 2s - loss: 0.0254 - acc: 0.9937 - val_loss: 0.3033 - val_acc: 0.9267\n",
      "Epoch 161/200\n",
      " - 2s - loss: 0.0228 - acc: 0.9943 - val_loss: 0.3027 - val_acc: 0.9280\n",
      "Epoch 162/200\n",
      " - 2s - loss: 0.0191 - acc: 0.9953 - val_loss: 0.3121 - val_acc: 0.9277\n",
      "Epoch 163/200\n",
      " - 2s - loss: 0.0168 - acc: 0.9957 - val_loss: 0.3605 - val_acc: 0.9257\n",
      "Epoch 164/200\n",
      " - 2s - loss: 0.0189 - acc: 0.9952 - val_loss: 0.3426 - val_acc: 0.9208\n",
      "Epoch 165/200\n",
      " - 2s - loss: 0.0235 - acc: 0.9934 - val_loss: 0.3291 - val_acc: 0.9272\n",
      "Epoch 166/200\n",
      " - 2s - loss: 0.0235 - acc: 0.9940 - val_loss: 0.3226 - val_acc: 0.9236\n",
      "Epoch 167/200\n",
      " - 2s - loss: 0.0285 - acc: 0.9924 - val_loss: 0.3088 - val_acc: 0.9234\n",
      "Epoch 168/200\n",
      " - 2s - loss: 0.0219 - acc: 0.9942 - val_loss: 0.3136 - val_acc: 0.9271\n",
      "Epoch 169/200\n",
      " - 2s - loss: 0.0159 - acc: 0.9962 - val_loss: 0.3154 - val_acc: 0.9325\n",
      "Epoch 170/200\n",
      " - 2s - loss: 0.0169 - acc: 0.9959 - val_loss: 0.3655 - val_acc: 0.9295\n",
      "Epoch 171/200\n",
      " - 2s - loss: 0.0242 - acc: 0.9943 - val_loss: 0.3841 - val_acc: 0.9208\n",
      "Epoch 172/200\n",
      " - 2s - loss: 0.0266 - acc: 0.9941 - val_loss: 0.3146 - val_acc: 0.9245\n",
      "Epoch 173/200\n",
      " - 2s - loss: 0.0192 - acc: 0.9953 - val_loss: 0.3847 - val_acc: 0.9242\n",
      "Epoch 174/200\n",
      " - 2s - loss: 0.0164 - acc: 0.9964 - val_loss: 0.3648 - val_acc: 0.9242\n",
      "Epoch 175/200\n",
      " - 2s - loss: 0.0148 - acc: 0.9969 - val_loss: 0.3581 - val_acc: 0.9306\n",
      "Epoch 176/200\n",
      " - 2s - loss: 0.0158 - acc: 0.9965 - val_loss: 0.3475 - val_acc: 0.9277\n",
      "Epoch 177/200\n",
      " - 2s - loss: 0.0143 - acc: 0.9966 - val_loss: 0.3457 - val_acc: 0.9257\n",
      "Epoch 178/200\n",
      " - 2s - loss: 0.0170 - acc: 0.9959 - val_loss: 0.3412 - val_acc: 0.9256\n",
      "Epoch 179/200\n",
      " - 2s - loss: 0.0202 - acc: 0.9953 - val_loss: 0.3186 - val_acc: 0.9266\n",
      "Epoch 180/200\n",
      " - 2s - loss: 0.0261 - acc: 0.9933 - val_loss: 0.3461 - val_acc: 0.9263\n",
      "Epoch 181/200\n",
      " - 2s - loss: 0.0251 - acc: 0.9937 - val_loss: 0.3764 - val_acc: 0.9254\n",
      "Epoch 182/200\n",
      " - 2s - loss: 0.0187 - acc: 0.9947 - val_loss: 0.3601 - val_acc: 0.9283\n",
      "Epoch 183/200\n",
      " - 2s - loss: 0.0166 - acc: 0.9958 - val_loss: 0.3541 - val_acc: 0.9268\n",
      "Epoch 184/200\n",
      " - 2s - loss: 0.0240 - acc: 0.9936 - val_loss: 0.3499 - val_acc: 0.9209\n",
      "Epoch 185/200\n",
      " - 2s - loss: 0.0213 - acc: 0.9949 - val_loss: 0.3246 - val_acc: 0.9275\n",
      "Epoch 186/200\n",
      " - 2s - loss: 0.0195 - acc: 0.9957 - val_loss: 0.3294 - val_acc: 0.9240\n",
      "Epoch 187/200\n",
      " - 2s - loss: 0.0198 - acc: 0.9949 - val_loss: 0.3816 - val_acc: 0.9247\n",
      "Epoch 188/200\n",
      " - 2s - loss: 0.0286 - acc: 0.9922 - val_loss: 0.3474 - val_acc: 0.9235\n",
      "Epoch 189/200\n",
      " - 2s - loss: 0.0284 - acc: 0.9928 - val_loss: 0.3181 - val_acc: 0.9255\n",
      "Epoch 190/200\n",
      " - 2s - loss: 0.0192 - acc: 0.9954 - val_loss: 0.3272 - val_acc: 0.9256\n",
      "Epoch 191/200\n",
      " - 2s - loss: 0.0209 - acc: 0.9948 - val_loss: 0.3314 - val_acc: 0.9290\n",
      "Epoch 192/200\n",
      " - 2s - loss: 0.0214 - acc: 0.9948 - val_loss: 0.3670 - val_acc: 0.9277\n"
     ]
    },
    {
     "name": "stdout",
     "output_type": "stream",
     "text": [
      "Epoch 193/200\n",
      " - 2s - loss: 0.0188 - acc: 0.9950 - val_loss: 0.3128 - val_acc: 0.9295\n",
      "Epoch 194/200\n",
      " - 2s - loss: 0.0142 - acc: 0.9964 - val_loss: 0.3691 - val_acc: 0.9277\n",
      "Epoch 195/200\n",
      " - 2s - loss: 0.0137 - acc: 0.9968 - val_loss: 0.3551 - val_acc: 0.9278\n",
      "Epoch 196/200\n",
      " - 2s - loss: 0.0130 - acc: 0.9972 - val_loss: 0.3723 - val_acc: 0.9310\n",
      "Epoch 197/200\n",
      " - 2s - loss: 0.0187 - acc: 0.9958 - val_loss: 0.3248 - val_acc: 0.9277\n",
      "Epoch 198/200\n",
      " - 2s - loss: 0.0183 - acc: 0.9960 - val_loss: 0.3074 - val_acc: 0.9321\n",
      "Epoch 199/200\n",
      " - 2s - loss: 0.0155 - acc: 0.9967 - val_loss: 0.2996 - val_acc: 0.9311\n",
      "Epoch 200/200\n",
      " - 2s - loss: 0.0138 - acc: 0.9968 - val_loss: 0.3389 - val_acc: 0.9292\n"
     ]
    },
    {
     "data": {
      "text/plain": [
       "<keras.callbacks.History at 0x12ca5a748>"
      ]
     },
     "execution_count": 70,
     "metadata": {},
     "output_type": "execute_result"
    }
   ],
   "source": [
    "model.fit(((X_train[:,::4]-X_train.mean())/X_train.std()),Y_train[:,1:],10,200,verbose=2,validation_data=((X_test[:,::4]-X_test.mean())/X_test.std(),Y_test[:,1:]))"
   ]
  },
  {
   "cell_type": "markdown",
   "metadata": {},
   "source": [
    "# Accuracy on Validation Set"
   ]
  },
  {
   "cell_type": "code",
   "execution_count": 121,
   "metadata": {},
   "outputs": [
    {
     "data": {
      "text/plain": [
       "(2300, 5)"
      ]
     },
     "execution_count": 121,
     "metadata": {},
     "output_type": "execute_result"
    }
   ],
   "source": [
    "ypred=model.predict((X_test[:,::4]-X_test.mean())/X_test.std())\n",
    "ypred.shape"
   ]
  },
  {
   "cell_type": "code",
   "execution_count": 122,
   "metadata": {},
   "outputs": [],
   "source": [
    "yp=np.zeros((Y_test.shape[0]))\n",
    "yo=np.ones((Y_test.shape[0]))"
   ]
  },
  {
   "cell_type": "code",
   "execution_count": 123,
   "metadata": {},
   "outputs": [],
   "source": [
    "for i in range(Y_test.shape[0]):\n",
    "    yp[i]=np.argmax(ypred[i])+1"
   ]
  },
  {
   "cell_type": "code",
   "execution_count": 124,
   "metadata": {},
   "outputs": [
    {
     "data": {
      "text/plain": [
       "(2300,)"
      ]
     },
     "execution_count": 124,
     "metadata": {},
     "output_type": "execute_result"
    }
   ],
   "source": [
    "yp.shape"
   ]
  },
  {
   "cell_type": "code",
   "execution_count": 125,
   "metadata": {},
   "outputs": [
    {
     "data": {
      "text/plain": [
       "array([1.])"
      ]
     },
     "execution_count": 125,
     "metadata": {},
     "output_type": "execute_result"
    }
   ],
   "source": [
    "np.unique(yo)"
   ]
  },
  {
   "cell_type": "code",
   "execution_count": 126,
   "metadata": {},
   "outputs": [
    {
     "data": {
      "text/plain": [
       "array([1., 2., 3., 4., 5.])"
      ]
     },
     "execution_count": 126,
     "metadata": {},
     "output_type": "execute_result"
    }
   ],
   "source": [
    "np.unique(yp)"
   ]
  },
  {
   "cell_type": "code",
   "execution_count": 127,
   "metadata": {},
   "outputs": [
    {
     "data": {
      "text/plain": [
       "(2300,)"
      ]
     },
     "execution_count": 127,
     "metadata": {},
     "output_type": "execute_result"
    }
   ],
   "source": [
    "yo.shape"
   ]
  },
  {
   "cell_type": "code",
   "execution_count": 128,
   "metadata": {},
   "outputs": [],
   "source": [
    "#conversion of classes\n",
    "for i in range(Y_test.shape[0]):\n",
    "    if y_test[i]!=1:\n",
    "        yo[i]=0\n",
    "    if yp[i]!=1:\n",
    "        yp[i]=0"
   ]
  },
  {
   "cell_type": "code",
   "execution_count": 131,
   "metadata": {},
   "outputs": [
    {
     "data": {
      "text/plain": [
       "array([0., 1.])"
      ]
     },
     "execution_count": 131,
     "metadata": {},
     "output_type": "execute_result"
    }
   ],
   "source": [
    "np.unique(yo)"
   ]
  },
  {
   "cell_type": "code",
   "execution_count": 132,
   "metadata": {},
   "outputs": [
    {
     "data": {
      "text/plain": [
       "array([0., 1.])"
      ]
     },
     "execution_count": 132,
     "metadata": {},
     "output_type": "execute_result"
    }
   ],
   "source": [
    "np.unique(yp)"
   ]
  },
  {
   "cell_type": "code",
   "execution_count": 133,
   "metadata": {},
   "outputs": [],
   "source": [
    "from sklearn.metrics import accuracy_score"
   ]
  },
  {
   "cell_type": "code",
   "execution_count": 134,
   "metadata": {},
   "outputs": [
    {
     "data": {
      "text/plain": [
       "0.9895652173913043"
      ]
     },
     "execution_count": 134,
     "metadata": {},
     "output_type": "execute_result"
    }
   ],
   "source": [
    "accuracy_score(yo,yp)"
   ]
  },
  {
   "cell_type": "code",
   "execution_count": null,
   "metadata": {},
   "outputs": [],
   "source": []
  }
 ],
 "metadata": {
  "kernelspec": {
   "display_name": "Python 3",
   "language": "python",
   "name": "python3"
  },
  "language_info": {
   "codemirror_mode": {
    "name": "ipython",
    "version": 3
   },
   "file_extension": ".py",
   "mimetype": "text/x-python",
   "name": "python",
   "nbconvert_exporter": "python",
   "pygments_lexer": "ipython3",
   "version": "3.7.1"
  }
 },
 "nbformat": 4,
 "nbformat_minor": 2
}
